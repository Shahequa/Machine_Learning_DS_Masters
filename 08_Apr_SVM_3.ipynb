{
 "cells": [
  {
   "cell_type": "markdown",
   "id": "54b72d7c-0bf3-420a-95e3-d18c1cda1c9b",
   "metadata": {},
   "source": [
    "## Support Vactor Machines Assignment - 3\n",
    "**By Shahequa Modabbera**"
   ]
  },
  {
   "cell_type": "markdown",
   "id": "4f17e384-ecfb-4d6a-ba55-aa16ac8a3bbf",
   "metadata": {},
   "source": [
    "### Q1. In order to predict house price based on several characteristics, such as location, square footage, number of bedrooms, etc., you are developing an SVM regression model. Which regression metric in this situation would be the best to employ?\n",
    "\n",
    "#### Dataset link: https://drive.google.com/file/d/1Z9oLpmt6IDRNw7IeNcHYTGeJRYypRSC0/view?usp=share_link"
   ]
  },
  {
   "cell_type": "markdown",
   "id": "b1c0b6ec-9896-4459-b294-af6ec1e34577",
   "metadata": {},
   "source": [
    "Ans) In the context of predicting house prices using an SVM regression model, the following regression metrics would be appropriate to evaluate the model's performance:\n",
    "\n",
    "1. Mean Squared Error (MSE): MSE is a commonly used regression metric that measures the average squared difference between the predicted and actual house prices. It penalizes large errors more heavily, making it sensitive to outliers. A lower MSE indicates better model performance.\n",
    "\n",
    "2. Root Mean Squared Error (RMSE): RMSE is the square root of the MSE and provides an interpretable metric in the same units as the target variable (house price). It gives an estimate of the average prediction error. Like MSE, a lower RMSE indicates better model performance.\n",
    "\n",
    "3. Mean Absolute Error (MAE): MAE measures the average absolute difference between the predicted and actual house prices. It is less sensitive to outliers compared to MSE and RMSE. A lower MAE indicates better model performance.\n",
    "\n",
    "When selecting the best regression metric to employ, it is important to consider the specific context and requirements of the problem. In the case of predicting house prices, MSE or RMSE are commonly used as they provide a measure of the magnitude of prediction errors, taking into account both the direction and the magnitude of the errors. However, it is advisable to consider the specific business goals and preferences to choose the most suitable metric for evaluating the SVM regression model's performance."
   ]
  },
  {
   "cell_type": "markdown",
   "id": "ff72ec87-b47f-4b85-b2d6-a1d6ea85e866",
   "metadata": {},
   "source": [
    "### Q2. You have built an SVM regression model and are trying to decide between using MSE or R-squared as your evaluation metric. Which metric would be more appropriate if your goal is to predict the actual price of a house as accurately as possible?"
   ]
  },
  {
   "cell_type": "markdown",
   "id": "9d874dbd-eb3e-4745-97b9-881997e3bd56",
   "metadata": {},
   "source": [
    "Ans) If our goal is to predict the actual price of a house as accurately as possible, the most appropriate evaluation metric to use for our SVM regression model would be Mean Squared Error (MSE).\n",
    "\n",
    "MSE measures the average squared difference between the predicted house prices and the actual prices. It provides a measure of how close the predicted values are to the true values. The lower the MSE, the better the model's performance in terms of minimizing the prediction errors.\n",
    "\n",
    "R-squared, on the other hand, measures the proportion of the variance in the dependent variable (house prices) that is explained by the independent variables (features). While R-squared is a valuable metric for assessing the overall goodness of fit of a regression model, it may not directly reflect the accuracy of individual predictions. A high R-squared value does not guarantee that the model's predictions are accurate in terms of capturing the actual house prices.\n",
    "\n",
    "Therefore, when our primary goal is to predict the actual price of a house as accurately as possible, focusing on minimizing the MSE would be more appropriate. It directly captures the prediction errors and provides a straightforward measure of the model's accuracy in terms of predicting house prices."
   ]
  },
  {
   "cell_type": "markdown",
   "id": "dcfdb94d-a61d-41a1-8b16-c57c386521be",
   "metadata": {},
   "source": [
    "### Q3. You have a dataset with a significant number of outliers and are trying to select an appropriate regression metric to use with your SVM model. Which metric would be the most appropriate in this scenario?"
   ]
  },
  {
   "cell_type": "markdown",
   "id": "6503accd-d8e6-43dc-a566-483f692b4f99",
   "metadata": {},
   "source": [
    "Ans) When dealing with a dataset that has a significant number of outliers, the most appropriate regression metric to use with our SVM model would be Mean Absolute Error (MAE).\n",
    "\n",
    "MAE is less sensitive to outliers compared to other metrics such as Mean Squared Error (MSE) or Root Mean Squared Error (RMSE). It calculates the average absolute difference between the predicted values and the actual values. By using MAE, the impact of outliers is minimized since it only considers the absolute differences without squaring them.\n",
    "\n",
    "In the presence of outliers, MSE and RMSE can be heavily influenced by the large errors introduced by these outliers, resulting in a misleading evaluation of the model's performance. On the other hand, MAE gives equal weight to all errors, regardless of their magnitude.\n",
    "\n",
    "Therefore, when dealing with a dataset that has a significant number of outliers, choosing MAE as the regression metric for our SVM model would be more appropriate as it provides a more robust evaluation of the model's performance and is less affected by the outliers."
   ]
  },
  {
   "cell_type": "markdown",
   "id": "fdc3829c-00b3-4bc9-b955-ca3041d01ae5",
   "metadata": {},
   "source": [
    "### Q4. You have built an SVM regression model using a polynomial kernel and are trying to select the best metric to evaluate its performance. You have calculated both MSE and RMSE and found that both values are very close. Which metric should you choose to use in this case?"
   ]
  },
  {
   "cell_type": "markdown",
   "id": "61b9803f-767c-47d5-8444-72859b718942",
   "metadata": {},
   "source": [
    "Ans) If we have built an SVM regression model using a polynomial kernel and we have calculated both Mean Squared Error (MSE) and Root Mean Squared Error (RMSE) metrics, and found that both values are very close, it is advisable to choose RMSE as the evaluation metric.\n",
    "\n",
    "The reason is that RMSE incorporates the square root of the MSE, which provides a more interpretable and intuitive measure of the model's performance. RMSE is particularly useful when the error values are in the same unit as the target variable. By taking the square root of the MSE, RMSE brings the evaluation metric back to the original scale of the target variable, making it easier to interpret and compare.\n",
    "\n",
    "Choosing RMSE over MSE in this case helps to provide a more meaningful understanding of the model's predictive accuracy in terms of the actual values of the target variable. It also aligns with the typical practice of reporting performance metrics in regression tasks, where RMSE is commonly used for comparison and evaluation."
   ]
  },
  {
   "cell_type": "markdown",
   "id": "bf04412e-20b2-4de5-9bff-3657ea52b5fc",
   "metadata": {},
   "source": [
    "### Q5. You are comparing the performance of different SVM regression models using different kernels (linear, polynomial, and RBF) and are trying to select the best evaluation metric. Which metric would be most appropriate if your goal is to measure how well the model explains the variance in the target variable?"
   ]
  },
  {
   "cell_type": "markdown",
   "id": "167d374c-9118-4c4d-bddb-b11552a13eb9",
   "metadata": {},
   "source": [
    "Ans) If our goal is to measure how well the model explains the variance in the target variable, the most appropriate evaluation metric to use for comparing different SVM regression models with different kernels is the coefficient of determination, also known as R-squared (R2).\n",
    "\n",
    "R-squared measures the proportion of the variance in the target variable that can be explained by the regression model. It provides an indication of how well the model fits the data and captures the underlying patterns and relationships. A higher R-squared value indicates a better fit and suggests that the model can explain a larger portion of the variance in the target variable.\n",
    "\n",
    "When comparing SVM regression models with different kernels, using R-squared as the evaluation metric allows us to directly assess how well each model captures the variability in the target variable, regardless of the specific kernel used. It provides a standardized measure that is commonly used to evaluate regression models and allows for meaningful comparisons between different models."
   ]
  }
 ],
 "metadata": {
  "kernelspec": {
   "display_name": "Python 3 (ipykernel)",
   "language": "python",
   "name": "python3"
  },
  "language_info": {
   "codemirror_mode": {
    "name": "ipython",
    "version": 3
   },
   "file_extension": ".py",
   "mimetype": "text/x-python",
   "name": "python",
   "nbconvert_exporter": "python",
   "pygments_lexer": "ipython3",
   "version": "3.10.8"
  }
 },
 "nbformat": 4,
 "nbformat_minor": 5
}
